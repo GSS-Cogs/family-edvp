{
 "cells": [
  {
   "cell_type": "code",
   "execution_count": 1,
   "id": "dominican-embassy",
   "metadata": {},
   "outputs": [],
   "source": [
    "from gssutils import *\n",
    "import pandas as pd\n",
    "import json\n",
    "\n",
    "#extract spread sheet from landing page\n",
    "scraper = Scraper(seed=\"info.json\")\n",
    "scraper.distributions = [x for x in scraper.distributions if hasattr(x, \"mediaType\")]\n",
    "scraper\n",
    "\n",
    "# Add cubes class\n",
    "cubes = Cubes(\"info.json\")\n",
    "#Add tracer to transform\n",
    "trace = TransformTrace()"
   ]
  },
  {
   "cell_type": "code",
   "execution_count": 2,
   "id": "domestic-amazon",
   "metadata": {},
   "outputs": [
    {
     "name": "stdout",
     "output_type": "stream",
     "text": [
      "https://assets.publishing.service.gov.uk/government/uploads/system/uploads/attachment_data/file/861819/December_2019_Sub-regional_Feed-in_Tariffs_confirmed_CFR.xls\n",
      "Sub-regional Feed-in Tariffs confirmed on the CFR statistics\n"
     ]
    }
   ],
   "source": [
    "# extract latest distribution and datasetTitle\n",
    "distribution = scraper.distribution(latest = True)\n",
    "datasetTitle = distribution.title\n",
    "print(distribution.downloadURL)\n",
    "print(datasetTitle)"
   ]
  },
  {
   "cell_type": "code",
   "execution_count": 3,
   "id": "automated-characterization",
   "metadata": {},
   "outputs": [],
   "source": [
    "# Extract all the tabs from the spread sheet\n",
    "tabs = {tab.name: tab for tab in distribution.as_databaker()}"
   ]
  },
  {
   "cell_type": "code",
   "execution_count": 4,
   "id": "anticipated-honey",
   "metadata": {},
   "outputs": [
    {
     "name": "stdout",
     "output_type": "stream",
     "text": [
      "Title\n",
      "Latest Quarter - Region\n",
      "Latest Quarter - Region (kW)\n",
      "Latest Quarter - LA\n",
      "Latest Quarter - LA (kW)\n",
      "Latest Quarter - PC\n",
      "Latest Quarter - PC (kW)\n",
      "Latest Quarter - LEPs\n",
      "Latest Quarter - LEPs (kW)\n",
      "Calculation\n"
     ]
    }
   ],
   "source": [
    "# List out all the tab name to cross verify with the spread sheet\n",
    "for tab in tabs:\n",
    "    print(tab)"
   ]
  },
  {
   "cell_type": "code",
   "execution_count": 5,
   "id": "compact-stack",
   "metadata": {},
   "outputs": [],
   "source": [
    "columns = [\"Region\", \"Period\", \"Technology\", \"Installation\", \"Households\", \"Local Or Parliamentary Code\",\n",
    "           \"Local Enterprise Partnerships\", \"Leps Authority\", \"Marker\", \"Unit\"]"
   ]
  },
  {
   "cell_type": "code",
   "execution_count": 6,
   "id": "thousand-titanium",
   "metadata": {},
   "outputs": [
    {
     "name": "stdout",
     "output_type": "stream",
     "text": [
      "Latest Quarter - Region\n",
      "tablepart 'Latest Quarter - Region' written #injblock1001\n",
      "javascript calculated\n"
     ]
    },
    {
     "data": {
      "text/html": [
       "Written to file: <a href='Latest Quarter - RegionPreview.html' target='_blank'>Latest Quarter - RegionPreview.html</a><br>"
      ],
      "text/plain": [
       "/Users/santhoshthangavel/projects/family-edvp/datasets/BEIS-Sub-regional-Feed-in-Tariffs-confirmed-on-the-CFR-statistics/Latest Quarter - RegionPreview.html"
      ]
     },
     "metadata": {},
     "output_type": "display_data"
    },
    {
     "name": "stdout",
     "output_type": "stream",
     "text": [
      "tablepart 'Latest Quarter - Region' written #injblock1002\n",
      "javascript calculated\n"
     ]
    },
    {
     "data": {
      "text/html": [
       "Path (<tt>ecd73174-6d50-4e9e-8f52-219de381084d.html</tt>) doesn't exist. It may still be in the process of being generated, or you may have the incorrect path."
      ],
      "text/plain": [
       "/Users/santhoshthangavel/projects/family-edvp/datasets/BEIS-Sub-regional-Feed-in-Tariffs-confirmed-on-the-CFR-statistics/ecd73174-6d50-4e9e-8f52-219de381084d.html"
      ]
     },
     "metadata": {},
     "output_type": "display_data"
    },
    {
     "name": "stderr",
     "output_type": "stream",
     "text": [
      "WARNING:root:We're depreciating the \".OBS\" command, please use the standards-compliant \".obs\" instead.\n"
     ]
    },
    {
     "name": "stdout",
     "output_type": "stream",
     "text": [
      "\n",
      "Latest Quarter - Region (kW)\n",
      "tablepart 'Latest Quarter - Region (kW)' written #injblock1003\n",
      "javascript calculated\n"
     ]
    },
    {
     "data": {
      "text/html": [
       "Written to file: <a href='Latest Quarter - Region (kW)Preview.html' target='_blank'>Latest Quarter - Region (kW)Preview.html</a><br>"
      ],
      "text/plain": [
       "/Users/santhoshthangavel/projects/family-edvp/datasets/BEIS-Sub-regional-Feed-in-Tariffs-confirmed-on-the-CFR-statistics/Latest Quarter - Region (kW)Preview.html"
      ]
     },
     "metadata": {},
     "output_type": "display_data"
    },
    {
     "name": "stdout",
     "output_type": "stream",
     "text": [
      "tablepart 'Latest Quarter - Region (kW)' written #injblock1004\n",
      "javascript calculated\n"
     ]
    },
    {
     "data": {
      "text/html": [
       "Path (<tt>707ed9e9-77db-4b57-979a-2f58e584f4df.html</tt>) doesn't exist. It may still be in the process of being generated, or you may have the incorrect path."
      ],
      "text/plain": [
       "/Users/santhoshthangavel/projects/family-edvp/datasets/BEIS-Sub-regional-Feed-in-Tariffs-confirmed-on-the-CFR-statistics/707ed9e9-77db-4b57-979a-2f58e584f4df.html"
      ]
     },
     "metadata": {},
     "output_type": "display_data"
    },
    {
     "name": "stdout",
     "output_type": "stream",
     "text": [
      "\n"
     ]
    }
   ],
   "source": [
    "# Filtering out the tabs which are not required and start the transform \n",
    "for name, tab in tabs.items():\n",
    "    if 'Title' in name or 'Calculation' in name \\\n",
    "    or'Latest Quarter - LA' in name or 'Latest Quarter - LA (kW)' in name \\\n",
    "    or 'Latest Quarter - PC' in name or 'Latest Quarter - PC (kW)' in name \\\n",
    "    or 'Latest Quarter - LEPs' in name or 'Latest Quarter - LEPs (kW)' in name:\n",
    "        continue\n",
    "    print(tab.name)\n",
    "    trace.start(datasetTitle, tab, columns, distribution.downloadURL)\n",
    "        \n",
    "    cell = tab.excel_ref(\"B7\")\n",
    "    \n",
    "    footer = tab.filter(contains_string(\"Notes\")).expand(RIGHT).expand(DOWN)\n",
    "    \n",
    "    region = cell.fill(DOWN).is_not_blank().is_not_whitespace()-footer\n",
    "    trace.Region(\"Taken from cell B7 down excluding footer\")\n",
    "        \n",
    "    households = cell.fill(RIGHT).is_not_blank().is_not_whitespace()\n",
    "    trace.Households(\"Taken from cell B7 right\")\n",
    "        \n",
    "    technology = cell.shift(0, -1).fill(RIGHT).is_not_blank().is_not_whitespace()\n",
    "    trace.Technology(\"Taken from cell B6 right which is not blank\")\n",
    "\n",
    "    #installation may potentially become measure type. A word from DM is awaited.    \n",
    "    installation = cell.shift(0, -2).fill(RIGHT).is_not_blank().is_not_whitespace()\n",
    "    trace.Installation(\"Taken from cell B5 right which is not blank\")\n",
    "\n",
    "    period = cell.shift(0, -4).fill(RIGHT).is_not_blank().is_not_whitespace()\n",
    "    trace.Period(\"taken from cell B3 right which is not blank\")\n",
    "\n",
    "    observations = region.fill(RIGHT).is_not_blank().is_not_whitespace()-footer\n",
    "\n",
    "    dimensions = [\n",
    "        HDim(region, \"Region\", DIRECTLY, LEFT),\n",
    "        HDim(households, \"Households\", CLOSEST, LEFT),\n",
    "        HDim(technology, \"Technology\", CLOSEST, LEFT),\n",
    "        HDim(installation, \"Installation\", CLOSEST, LEFT),\n",
    "        HDim(period, \"Period\", CLOSEST, LEFT)\n",
    "    ]\n",
    "    tidy_sheet = ConversionSegment(tab, dimensions, observations)\n",
    "    savepreviewhtml(tidy_sheet,fname=tab.name + \"Preview.html\")\n",
    "    trace.with_preview(tidy_sheet)\n",
    "    trace.store(\"combined_dataframe\", tidy_sheet.topandas())"
   ]
  },
  {
   "cell_type": "code",
   "execution_count": 7,
   "id": "completed-singapore",
   "metadata": {},
   "outputs": [
    {
     "name": "stdout",
     "output_type": "stream",
     "text": [
      "Latest Quarter - LA\n",
      "tablepart 'Latest Quarter - LA' written #injblock1005\n",
      "javascript calculated\n"
     ]
    },
    {
     "data": {
      "text/html": [
       "Written to file: <a href='Latest Quarter - LAPreview.html' target='_blank'>Latest Quarter - LAPreview.html</a><br>"
      ],
      "text/plain": [
       "/Users/santhoshthangavel/projects/family-edvp/datasets/BEIS-Sub-regional-Feed-in-Tariffs-confirmed-on-the-CFR-statistics/Latest Quarter - LAPreview.html"
      ]
     },
     "metadata": {},
     "output_type": "display_data"
    },
    {
     "name": "stdout",
     "output_type": "stream",
     "text": [
      "tablepart 'Latest Quarter - LA' written #injblock1006\n",
      "javascript calculated\n"
     ]
    },
    {
     "data": {
      "text/html": [
       "Path (<tt>349a65d6-3339-41bc-bcfa-e7659740eb66.html</tt>) doesn't exist. It may still be in the process of being generated, or you may have the incorrect path."
      ],
      "text/plain": [
       "/Users/santhoshthangavel/projects/family-edvp/datasets/BEIS-Sub-regional-Feed-in-Tariffs-confirmed-on-the-CFR-statistics/349a65d6-3339-41bc-bcfa-e7659740eb66.html"
      ]
     },
     "metadata": {},
     "output_type": "display_data"
    },
    {
     "name": "stdout",
     "output_type": "stream",
     "text": [
      "\n",
      "Latest Quarter - LA (kW)\n",
      "tablepart 'Latest Quarter - LA (kW)' written #injblock1007\n",
      "javascript calculated\n"
     ]
    },
    {
     "data": {
      "text/html": [
       "Written to file: <a href='Latest Quarter - LA (kW)Preview.html' target='_blank'>Latest Quarter - LA (kW)Preview.html</a><br>"
      ],
      "text/plain": [
       "/Users/santhoshthangavel/projects/family-edvp/datasets/BEIS-Sub-regional-Feed-in-Tariffs-confirmed-on-the-CFR-statistics/Latest Quarter - LA (kW)Preview.html"
      ]
     },
     "metadata": {},
     "output_type": "display_data"
    },
    {
     "name": "stdout",
     "output_type": "stream",
     "text": [
      "tablepart 'Latest Quarter - LA (kW)' written #injblock1008\n",
      "javascript calculated\n"
     ]
    },
    {
     "data": {
      "text/html": [
       "Path (<tt>e8ccfccb-da45-4e6b-b20d-69c422a3d700.html</tt>) doesn't exist. It may still be in the process of being generated, or you may have the incorrect path."
      ],
      "text/plain": [
       "/Users/santhoshthangavel/projects/family-edvp/datasets/BEIS-Sub-regional-Feed-in-Tariffs-confirmed-on-the-CFR-statistics/e8ccfccb-da45-4e6b-b20d-69c422a3d700.html"
      ]
     },
     "metadata": {},
     "output_type": "display_data"
    },
    {
     "name": "stdout",
     "output_type": "stream",
     "text": [
      "\n",
      "Latest Quarter - PC\n",
      "tablepart 'Latest Quarter - PC' written #injblock1009\n",
      "javascript calculated\n"
     ]
    },
    {
     "data": {
      "text/html": [
       "Written to file: <a href='Latest Quarter - PCPreview.html' target='_blank'>Latest Quarter - PCPreview.html</a><br>"
      ],
      "text/plain": [
       "/Users/santhoshthangavel/projects/family-edvp/datasets/BEIS-Sub-regional-Feed-in-Tariffs-confirmed-on-the-CFR-statistics/Latest Quarter - PCPreview.html"
      ]
     },
     "metadata": {},
     "output_type": "display_data"
    },
    {
     "name": "stdout",
     "output_type": "stream",
     "text": [
      "tablepart 'Latest Quarter - PC' written #injblock1010\n",
      "javascript calculated\n"
     ]
    },
    {
     "data": {
      "text/html": [
       "Path (<tt>db3e615b-6ce5-43cb-8c91-ae303016cde2.html</tt>) doesn't exist. It may still be in the process of being generated, or you may have the incorrect path."
      ],
      "text/plain": [
       "/Users/santhoshthangavel/projects/family-edvp/datasets/BEIS-Sub-regional-Feed-in-Tariffs-confirmed-on-the-CFR-statistics/db3e615b-6ce5-43cb-8c91-ae303016cde2.html"
      ]
     },
     "metadata": {},
     "output_type": "display_data"
    },
    {
     "name": "stdout",
     "output_type": "stream",
     "text": [
      "\n",
      "Latest Quarter - PC (kW)\n",
      "tablepart 'Latest Quarter - PC (kW)' written #injblock1011\n",
      "javascript calculated\n"
     ]
    },
    {
     "data": {
      "text/html": [
       "Written to file: <a href='Latest Quarter - PC (kW)Preview.html' target='_blank'>Latest Quarter - PC (kW)Preview.html</a><br>"
      ],
      "text/plain": [
       "/Users/santhoshthangavel/projects/family-edvp/datasets/BEIS-Sub-regional-Feed-in-Tariffs-confirmed-on-the-CFR-statistics/Latest Quarter - PC (kW)Preview.html"
      ]
     },
     "metadata": {},
     "output_type": "display_data"
    },
    {
     "name": "stdout",
     "output_type": "stream",
     "text": [
      "tablepart 'Latest Quarter - PC (kW)' written #injblock1012\n",
      "javascript calculated\n"
     ]
    },
    {
     "data": {
      "text/html": [
       "Path (<tt>f762261b-3afb-48ce-9144-aa9039fefafb.html</tt>) doesn't exist. It may still be in the process of being generated, or you may have the incorrect path."
      ],
      "text/plain": [
       "/Users/santhoshthangavel/projects/family-edvp/datasets/BEIS-Sub-regional-Feed-in-Tariffs-confirmed-on-the-CFR-statistics/f762261b-3afb-48ce-9144-aa9039fefafb.html"
      ]
     },
     "metadata": {},
     "output_type": "display_data"
    },
    {
     "name": "stdout",
     "output_type": "stream",
     "text": [
      "\n"
     ]
    }
   ],
   "source": [
    "for name, tab in tabs.items():\n",
    "    if 'Title' in name or 'Calculation' in name \\\n",
    "    or 'Latest Quarter - Region' in name or 'Latest Quarter - Region (kW)' in name \\\n",
    "    or 'Latest Quarter - LEPs' in name or 'Latest Quarter - LEPs (kW)' in name:\n",
    "        continue\n",
    "    print(tab.name)\n",
    "    trace.start(datasetTitle, tab, columns, distribution.downloadURL)   \n",
    "    cell = tab.excel_ref(\"B7\")\n",
    "    \n",
    "# Datamarker is catching footer values from Latest Quarter - LA and Latest Quarter - LA (kW) tabs\n",
    "    footer = tab.filter(contains_string(\"Notes\")).expand(RIGHT).expand(DOWN)\n",
    "    \n",
    "    #datamarker is catching weired values from footer so footer is caught and deleted    \n",
    "    local_or_parliamentary_code = cell.fill(DOWN).is_not_blank().is_not_whitespace()-footer\n",
    "    trace.Local_Or_Parliamentary_Code(\"Taken from cell B7 down excluding footer\")\n",
    "\n",
    "    households = cell.shift(1, 0).fill(RIGHT).is_not_blank().is_not_whitespace()\n",
    "    trace.Households(\"Taken from cell B7 right\")\n",
    "        \n",
    "    technology = cell.shift (0, -1).fill(RIGHT).is_not_blank().is_not_whitespace()\n",
    "    trace.Technology(\"Taken from cell B6 right which is not blank\")\n",
    "    \n",
    "    #installation may potentially become measure type. A word from DM is awaited.\n",
    "    installation = cell.shift (0, -2).fill(RIGHT).is_not_blank().is_not_whitespace()\n",
    "    trace.Installation(\"Taken from cell B5 right which is not blank\")\n",
    "\n",
    "    period = cell.shift(0, -4).fill(RIGHT).is_not_blank().is_not_whitespace()\n",
    "    trace.Period(\"taken from cell B3 right which is not blank\")\n",
    "\n",
    "    #datamarker is catching weired values from footer so footer is caught and deleted\n",
    "    observations = households.fill(DOWN).is_not_blank().is_not_whitespace()-footer\n",
    "\n",
    "    dimensions = [\n",
    "        HDim(local_or_parliamentary_code, \"Local Or Parliamentary Code\", CLOSEST, ABOVE),\n",
    "        HDim(households, \"Households\", CLOSEST, LEFT),\n",
    "        HDim(technology, \"Technology\", CLOSEST, LEFT),\n",
    "        HDim(installation, \"Installation\", CLOSEST, LEFT),\n",
    "        HDim(period, \"Period\", CLOSEST, LEFT)\n",
    "    ]\n",
    "    tidy_sheet = ConversionSegment(tab, dimensions, observations)\n",
    "    savepreviewhtml(tidy_sheet,fname=tab.name + \"Preview.html\")\n",
    "    trace.with_preview(tidy_sheet)\n",
    "    trace.store(\"combined_dataframe\", tidy_sheet.topandas())\n",
    "\n",
    "# # changes in local authority code to be implemented in post processing\n",
    "# # changes in local authority name to be implemented in post processing"
   ]
  },
  {
   "cell_type": "code",
   "execution_count": 8,
   "id": "central-joseph",
   "metadata": {},
   "outputs": [
    {
     "name": "stdout",
     "output_type": "stream",
     "text": [
      "Latest Quarter - LEPs\n",
      "tablepart 'Latest Quarter - LEPs' written #injblock1013\n",
      "javascript calculated\n"
     ]
    },
    {
     "data": {
      "text/html": [
       "Written to file: <a href='Latest Quarter - LEPsPreview.html' target='_blank'>Latest Quarter - LEPsPreview.html</a><br>"
      ],
      "text/plain": [
       "/Users/santhoshthangavel/projects/family-edvp/datasets/BEIS-Sub-regional-Feed-in-Tariffs-confirmed-on-the-CFR-statistics/Latest Quarter - LEPsPreview.html"
      ]
     },
     "metadata": {},
     "output_type": "display_data"
    },
    {
     "name": "stdout",
     "output_type": "stream",
     "text": [
      "tablepart 'Latest Quarter - LEPs' written #injblock1014\n",
      "javascript calculated\n"
     ]
    },
    {
     "data": {
      "text/html": [
       "Path (<tt>3b76c5fa-73fb-4b5d-95de-f4666beed8a1.html</tt>) doesn't exist. It may still be in the process of being generated, or you may have the incorrect path."
      ],
      "text/plain": [
       "/Users/santhoshthangavel/projects/family-edvp/datasets/BEIS-Sub-regional-Feed-in-Tariffs-confirmed-on-the-CFR-statistics/3b76c5fa-73fb-4b5d-95de-f4666beed8a1.html"
      ]
     },
     "metadata": {},
     "output_type": "display_data"
    },
    {
     "name": "stdout",
     "output_type": "stream",
     "text": [
      "\n",
      "Latest Quarter - LEPs (kW)\n",
      "tablepart 'Latest Quarter - LEPs (kW)' written #injblock1015\n",
      "javascript calculated\n"
     ]
    },
    {
     "data": {
      "text/html": [
       "Written to file: <a href='Latest Quarter - LEPs (kW)Preview.html' target='_blank'>Latest Quarter - LEPs (kW)Preview.html</a><br>"
      ],
      "text/plain": [
       "/Users/santhoshthangavel/projects/family-edvp/datasets/BEIS-Sub-regional-Feed-in-Tariffs-confirmed-on-the-CFR-statistics/Latest Quarter - LEPs (kW)Preview.html"
      ]
     },
     "metadata": {},
     "output_type": "display_data"
    },
    {
     "name": "stdout",
     "output_type": "stream",
     "text": [
      "tablepart 'Latest Quarter - LEPs (kW)' written #injblock1016\n",
      "javascript calculated\n"
     ]
    },
    {
     "data": {
      "text/html": [
       "Path (<tt>b7fa7c2d-00c7-40ed-bb4e-9f7d786b345b.html</tt>) doesn't exist. It may still be in the process of being generated, or you may have the incorrect path."
      ],
      "text/plain": [
       "/Users/santhoshthangavel/projects/family-edvp/datasets/BEIS-Sub-regional-Feed-in-Tariffs-confirmed-on-the-CFR-statistics/b7fa7c2d-00c7-40ed-bb4e-9f7d786b345b.html"
      ]
     },
     "metadata": {},
     "output_type": "display_data"
    },
    {
     "name": "stdout",
     "output_type": "stream",
     "text": [
      "\n"
     ]
    }
   ],
   "source": [
    "for name, tab in tabs.items():\n",
    "    if 'Title' in name or 'Calculation' in name \\\n",
    "    or 'Latest Quarter - Region' in name or 'Latest Quarter - Region (kW)' in name \\\n",
    "    or 'Latest Quarter - LA' in name or 'Latest Quarter - LA (KW)' in name \\\n",
    "    or 'Latest Quarter - PC' in name or 'Latest Quarter - PC (kW)' in name:\n",
    "        continue\n",
    "    print(tab.name)\n",
    "    trace.start(datasetTitle, tab, columns, distribution.downloadURL)\n",
    "        \n",
    "    cell = tab.excel_ref(\"B7\")\n",
    "    \n",
    "    footer = tab.filter(contains_string(\"Notes\")).expand(RIGHT).expand(DOWN)\n",
    "        \n",
    "    local_enterprise_partnerships = cell.fill(DOWN).is_not_blank().is_not_whitespace()-footer\n",
    "    trace.Local_Enterprise_Partnerships(\"Taken from cell B7 down excluding footer\")\n",
    "\n",
    "    leps_authority = cell.shift(1, 0).fill(DOWN).is_not_blank().is_not_whitespace()\n",
    "    trace.Leps_Authority(\"Taken from cell C7 down\")\n",
    "\n",
    "    households = cell.shift(1, 0).fill(RIGHT).is_not_blank().is_not_whitespace()\n",
    "    trace.Households(\"Taken from cell C7 right\")\n",
    "        \n",
    "    technology = cell.shift (0, -1).fill(RIGHT).is_not_blank().is_not_whitespace()\n",
    "    trace.Technology(\"Taken from cell B6 right which is not blank\")\n",
    "\n",
    "    #installation may potentially become measure type. A word from DM is awaited.\n",
    "    installation = cell.shift (0, -2).fill(RIGHT).is_not_blank().is_not_whitespace()\n",
    "    trace.Installation(\"Taken from cell B5 right which is not blank\")\n",
    "\n",
    "    period = cell.shift(0, -4).fill(RIGHT).is_not_blank().is_not_whitespace()\n",
    "    trace.Period(\"taken from cell B3 right which is not blank\")\n",
    "\n",
    "    observations = leps_authority.fill(RIGHT).is_not_blank().is_not_whitespace()-footer\n",
    "\n",
    "    dimensions = [\n",
    "        HDim(local_enterprise_partnerships, \"Local Enterprise Partnerships\", CLOSEST, ABOVE),\n",
    "        HDim(leps_authority, \"Leps_Authority\", CLOSEST, ABOVE),\n",
    "        HDim(households, \"Households\", CLOSEST, LEFT),\n",
    "        HDim(technology, \"Technology\", CLOSEST, LEFT),\n",
    "        HDim(installation, \"Installation\", CLOSEST, LEFT),\n",
    "        HDim(period, \"Period\", CLOSEST, LEFT)\n",
    "    ]\n",
    "    tidy_sheet = ConversionSegment(tab, dimensions, observations)\n",
    "    savepreviewhtml(tidy_sheet,fname=tab.name + \"Preview.html\")\n",
    "    trace.with_preview(tidy_sheet)\n",
    "    trace.store(\"combined_dataframe\", tidy_sheet.topandas())"
   ]
  },
  {
   "cell_type": "code",
   "execution_count": 9,
   "id": "electoral-boston",
   "metadata": {},
   "outputs": [
    {
     "data": {
      "text/html": [
       "<div>\n",
       "<style scoped>\n",
       "    .dataframe tbody tr th:only-of-type {\n",
       "        vertical-align: middle;\n",
       "    }\n",
       "\n",
       "    .dataframe tbody tr th {\n",
       "        vertical-align: top;\n",
       "    }\n",
       "\n",
       "    .dataframe thead th {\n",
       "        text-align: right;\n",
       "    }\n",
       "</style>\n",
       "<table border=\"1\" class=\"dataframe\">\n",
       "  <thead>\n",
       "    <tr style=\"text-align: right;\">\n",
       "      <th></th>\n",
       "      <th>OBS</th>\n",
       "      <th>Region</th>\n",
       "      <th>Households</th>\n",
       "      <th>Technology</th>\n",
       "      <th>Installation</th>\n",
       "      <th>Period</th>\n",
       "      <th>DATAMARKER</th>\n",
       "      <th>Local Or Parliamentary Code</th>\n",
       "      <th>Local Enterprise Partnerships</th>\n",
       "      <th>Leps_Authority</th>\n",
       "    </tr>\n",
       "  </thead>\n",
       "  <tbody>\n",
       "    <tr>\n",
       "      <th>0</th>\n",
       "      <td>2.03685e+06</td>\n",
       "      <td>East Midlands</td>\n",
       "      <td>Estimated number of households3</td>\n",
       "      <td>None</td>\n",
       "      <td>None</td>\n",
       "      <td>None</td>\n",
       "      <td>NaN</td>\n",
       "      <td>NaN</td>\n",
       "      <td>NaN</td>\n",
       "      <td>NaN</td>\n",
       "    </tr>\n",
       "    <tr>\n",
       "      <th>1</th>\n",
       "      <td>84388</td>\n",
       "      <td>East Midlands</td>\n",
       "      <td>Domestic</td>\n",
       "      <td>Photovoltaics</td>\n",
       "      <td>Cumulative number of installations 2</td>\n",
       "      <td>2019.0</td>\n",
       "      <td>NaN</td>\n",
       "      <td>NaN</td>\n",
       "      <td>NaN</td>\n",
       "      <td>NaN</td>\n",
       "    </tr>\n",
       "    <tr>\n",
       "      <th>2</th>\n",
       "      <td>87401</td>\n",
       "      <td>East Midlands</td>\n",
       "      <td>Total</td>\n",
       "      <td>Photovoltaics</td>\n",
       "      <td>Cumulative number of installations 2</td>\n",
       "      <td>2019.0</td>\n",
       "      <td>NaN</td>\n",
       "      <td>NaN</td>\n",
       "      <td>NaN</td>\n",
       "      <td>NaN</td>\n",
       "    </tr>\n",
       "    <tr>\n",
       "      <th>3</th>\n",
       "      <td>167</td>\n",
       "      <td>East Midlands</td>\n",
       "      <td>Domestic</td>\n",
       "      <td>Wind</td>\n",
       "      <td>Cumulative number of installations 2</td>\n",
       "      <td>2019.0</td>\n",
       "      <td>NaN</td>\n",
       "      <td>NaN</td>\n",
       "      <td>NaN</td>\n",
       "      <td>NaN</td>\n",
       "    </tr>\n",
       "    <tr>\n",
       "      <th>4</th>\n",
       "      <td>385</td>\n",
       "      <td>East Midlands</td>\n",
       "      <td>Total</td>\n",
       "      <td>Wind</td>\n",
       "      <td>Cumulative number of installations 2</td>\n",
       "      <td>2019.0</td>\n",
       "      <td>NaN</td>\n",
       "      <td>NaN</td>\n",
       "      <td>NaN</td>\n",
       "      <td>NaN</td>\n",
       "    </tr>\n",
       "    <tr>\n",
       "      <th>...</th>\n",
       "      <td>...</td>\n",
       "      <td>...</td>\n",
       "      <td>...</td>\n",
       "      <td>...</td>\n",
       "      <td>...</td>\n",
       "      <td>...</td>\n",
       "      <td>...</td>\n",
       "      <td>...</td>\n",
       "      <td>...</td>\n",
       "      <td>...</td>\n",
       "    </tr>\n",
       "    <tr>\n",
       "      <th>4584</th>\n",
       "      <td>4.95</td>\n",
       "      <td>NaN</td>\n",
       "      <td>Domestic</td>\n",
       "      <td>MicroCHP</td>\n",
       "      <td>Cumulative number of installations 2</td>\n",
       "      <td>2019.0</td>\n",
       "      <td>NaN</td>\n",
       "      <td>NaN</td>\n",
       "      <td>York &amp; North Yorkshire</td>\n",
       "      <td>York</td>\n",
       "    </tr>\n",
       "    <tr>\n",
       "      <th>4585</th>\n",
       "      <td>4.95</td>\n",
       "      <td>NaN</td>\n",
       "      <td>Total</td>\n",
       "      <td>MicroCHP</td>\n",
       "      <td>Cumulative number of installations 2</td>\n",
       "      <td>2019.0</td>\n",
       "      <td>NaN</td>\n",
       "      <td>NaN</td>\n",
       "      <td>York &amp; North Yorkshire</td>\n",
       "      <td>York</td>\n",
       "    </tr>\n",
       "    <tr>\n",
       "      <th>4586</th>\n",
       "      <td>10558.2</td>\n",
       "      <td>NaN</td>\n",
       "      <td>Total Domestic</td>\n",
       "      <td>MicroCHP</td>\n",
       "      <td>Cumulative number of installations 2</td>\n",
       "      <td>2019.0</td>\n",
       "      <td>NaN</td>\n",
       "      <td>NaN</td>\n",
       "      <td>York &amp; North Yorkshire</td>\n",
       "      <td>York</td>\n",
       "    </tr>\n",
       "    <tr>\n",
       "      <th>4587</th>\n",
       "      <td>1300.26</td>\n",
       "      <td>NaN</td>\n",
       "      <td>Total Non-Domestic</td>\n",
       "      <td>MicroCHP</td>\n",
       "      <td>Cumulative number of installations 2</td>\n",
       "      <td>2019.0</td>\n",
       "      <td>NaN</td>\n",
       "      <td>NaN</td>\n",
       "      <td>York &amp; North Yorkshire</td>\n",
       "      <td>York</td>\n",
       "    </tr>\n",
       "    <tr>\n",
       "      <th>4588</th>\n",
       "      <td>11858.4</td>\n",
       "      <td>NaN</td>\n",
       "      <td>Total</td>\n",
       "      <td>MicroCHP</td>\n",
       "      <td>Cumulative number of installations 2</td>\n",
       "      <td>2019.0</td>\n",
       "      <td>NaN</td>\n",
       "      <td>NaN</td>\n",
       "      <td>York &amp; North Yorkshire</td>\n",
       "      <td>York</td>\n",
       "    </tr>\n",
       "  </tbody>\n",
       "</table>\n",
       "<p>36942 rows × 10 columns</p>\n",
       "</div>"
      ],
      "text/plain": [
       "              OBS         Region                       Households  \\\n",
       "0     2.03685e+06  East Midlands  Estimated number of households3   \n",
       "1           84388  East Midlands                         Domestic   \n",
       "2           87401  East Midlands                            Total   \n",
       "3             167  East Midlands                         Domestic   \n",
       "4             385  East Midlands                            Total   \n",
       "...           ...            ...                              ...   \n",
       "4584         4.95            NaN                         Domestic   \n",
       "4585         4.95            NaN                            Total   \n",
       "4586      10558.2            NaN                   Total Domestic   \n",
       "4587      1300.26            NaN               Total Non-Domestic   \n",
       "4588      11858.4            NaN                            Total   \n",
       "\n",
       "         Technology                          Installation  Period DATAMARKER  \\\n",
       "0              None                                  None    None        NaN   \n",
       "1     Photovoltaics  Cumulative number of installations 2  2019.0        NaN   \n",
       "2     Photovoltaics  Cumulative number of installations 2  2019.0        NaN   \n",
       "3              Wind  Cumulative number of installations 2  2019.0        NaN   \n",
       "4              Wind  Cumulative number of installations 2  2019.0        NaN   \n",
       "...             ...                                   ...     ...        ...   \n",
       "4584       MicroCHP  Cumulative number of installations 2  2019.0        NaN   \n",
       "4585       MicroCHP  Cumulative number of installations 2  2019.0        NaN   \n",
       "4586       MicroCHP  Cumulative number of installations 2  2019.0        NaN   \n",
       "4587       MicroCHP  Cumulative number of installations 2  2019.0        NaN   \n",
       "4588       MicroCHP  Cumulative number of installations 2  2019.0        NaN   \n",
       "\n",
       "     Local Or Parliamentary Code Local Enterprise Partnerships Leps_Authority  \n",
       "0                            NaN                           NaN            NaN  \n",
       "1                            NaN                           NaN            NaN  \n",
       "2                            NaN                           NaN            NaN  \n",
       "3                            NaN                           NaN            NaN  \n",
       "4                            NaN                           NaN            NaN  \n",
       "...                          ...                           ...            ...  \n",
       "4584                         NaN        York & North Yorkshire           York  \n",
       "4585                         NaN        York & North Yorkshire           York  \n",
       "4586                         NaN        York & North Yorkshire           York  \n",
       "4587                         NaN        York & North Yorkshire           York  \n",
       "4588                         NaN        York & North Yorkshire           York  \n",
       "\n",
       "[36942 rows x 10 columns]"
      ]
     },
     "execution_count": 9,
     "metadata": {},
     "output_type": "execute_result"
    }
   ],
   "source": [
    "df = trace.combine_and_trace(datasetTitle, \"combined_dataframe\")\n",
    "df"
   ]
  },
  {
   "cell_type": "code",
   "execution_count": 10,
   "id": "seven-peninsula",
   "metadata": {},
   "outputs": [
    {
     "data": {
      "text/plain": [
       "array([nan, '-'], dtype=object)"
      ]
     },
     "execution_count": 10,
     "metadata": {},
     "output_type": "execute_result"
    }
   ],
   "source": [
    "df['DATAMARKER'].unique()"
   ]
  },
  {
   "cell_type": "code",
   "execution_count": 11,
   "id": "offensive-determination",
   "metadata": {},
   "outputs": [
    {
     "name": "stderr",
     "output_type": "stream",
     "text": [
      "WARNING:root:Output Scenario 3: A single cube written to the default output (cwd())\n"
     ]
    },
    {
     "name": "stdout",
     "output_type": "stream",
     "text": [
      "WARNING: dataset_root_uri is unset. In future this warning will be converted to an error and terminate your build.\n"
     ]
    }
   ],
   "source": [
    "cubes.add_cube(scraper, df.drop_duplicates(), datasetTitle)\n",
    "cubes.output_all()"
   ]
  },
  {
   "cell_type": "code",
   "execution_count": 12,
   "id": "center-service",
   "metadata": {},
   "outputs": [
    {
     "name": "stdout",
     "output_type": "stream",
     "text": [
      "Template https://raw.githubusercontent.com/GSS-Cogs/frontend-template-resources/master/templates/jinja2/spec_v1.html rendered as ./out/spec.html\n"
     ]
    }
   ],
   "source": [
    "trace.render(\"spec_v1.html\")"
   ]
  }
 ],
 "metadata": {
  "kernelspec": {
   "display_name": "Python 3",
   "language": "python",
   "name": "python3"
  },
  "language_info": {
   "codemirror_mode": {
    "name": "ipython",
    "version": 3
   },
   "file_extension": ".py",
   "mimetype": "text/x-python",
   "name": "python",
   "nbconvert_exporter": "python",
   "pygments_lexer": "ipython3",
   "version": "3.8.6"
  }
 },
 "nbformat": 4,
 "nbformat_minor": 5
}
