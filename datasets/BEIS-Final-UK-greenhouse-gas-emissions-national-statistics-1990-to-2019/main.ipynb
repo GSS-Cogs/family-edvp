{
 "cells": [
  {
   "cell_type": "markdown",
   "id": "66833576",
   "metadata": {},
   "source": [
    "## BEIS-Final-UK-greenhouse-gas-emissions-national-statistics-1990-to-2019"
   ]
  },
  {
   "cell_type": "code",
   "execution_count": 1,
   "id": "410ecd2d",
   "metadata": {
    "lines_to_next_cell": 2
   },
   "outputs": [],
   "source": [
    "import json\n",
    "import pandas as pd\n",
    "from gssutils import *"
   ]
  },
  {
   "cell_type": "code",
   "execution_count": 2,
   "id": "41e7ecde",
   "metadata": {},
   "outputs": [],
   "source": [
    "metadata = Scraper(seed=\"info.json\")"
   ]
  },
  {
   "cell_type": "code",
   "execution_count": 3,
   "id": "a878c237",
   "metadata": {},
   "outputs": [],
   "source": [
    "distribution = metadata.distribution(\n",
    "    latest=True,\n",
    "    mediaType=\"application/vnd.oasis.opendocument.spreadsheet\",\n",
    "    title=lambda x: \"UK greenhouse gas emissions: final figures - data tables (alternative ODS format)\"\n",
    "    in x,\n",
    ")"
   ]
  },
  {
   "cell_type": "code",
   "execution_count": 4,
   "id": "4f4bc2f2",
   "metadata": {},
   "outputs": [],
   "source": [
    "tabs = distribution.as_databaker()\n",
    "tabs = [\n",
    "    tab for tab in tabs if tab.name in [\"1_1\", \"1_2\", \"1_3\", \"1_4\", \"1_5\", \"1_6\", \"3_1\"]\n",
    "]"
   ]
  },
  {
   "cell_type": "code",
   "execution_count": 5,
   "id": "aff7d5aa",
   "metadata": {},
   "outputs": [
    {
     "name": "stdout",
     "output_type": "stream",
     "text": [
      "1_1\n",
      "1_2\n",
      "1_3\n",
      "1_4\n",
      "1_5\n",
      "1_6\n",
      "3_1\n"
     ]
    }
   ],
   "source": [
    "tidied_sheets = []\n",
    "for tab in tabs:\n",
    "    if tab.name == \"1_1\":\n",
    "\n",
    "        cell = tab.excel_ref(\"A1\")\n",
    "        period = cell.shift(0, 5).fill(RIGHT).is_not_blank().is_not_whitespace()\n",
    "        gas = cell.shift(0, 5).fill(DOWN).is_not_blank().is_not_whitespace()\n",
    "        unit = \"Million of tonnes of carbon dioxide equivalent (MtCO2e)\"\n",
    "        observations = period.waffle(gas)\n",
    "        dimensions = [\n",
    "            HDim(period, \"Period\", DIRECTLY, ABOVE),\n",
    "            HDim(gas, \"Gas\", DIRECTLY, LEFT),\n",
    "            HDimConst(\"Unit\", unit),\n",
    "        ]\n",
    "\n",
    "        tidy_sheet = ConversionSegment(tab, dimensions, observations)\n",
    "        df = tidy_sheet.topandas()\n",
    "        tidied_sheets.append(df)\n",
    "        print(tab.name)\n",
    "\n",
    "    elif tab.name in [\"1_2\", \"1_3\", \"1_4\", \"1_5\"]:\n",
    "        cell = tab.filter(\"NC Sector\")\n",
    "        period = cell.shift(RIGHT).fill(RIGHT).is_not_blank().is_not_whitespace()\n",
    "        gas = \"All\"\n",
    "        unit = \"Million of tonnes of carbon dioxide equivalent (MtCO2e)\"\n",
    "        stop_cell = tab.filter(\"Grand Total\")\n",
    "        nc_category = tab.filter(\"NC Category\").fill(DOWN)\n",
    "        nc_sector = nc_category.is_blank().shift(LEFT)\n",
    "        nc_sub_sector = nc_category.shift(LEFT).is_not_blank()\n",
    "\n",
    "        if tab.name == \"1_2\":\n",
    "            gas = \"All\"\n",
    "        elif tab.name == \"1_3\":\n",
    "            gas = \"Carbon Dioxide CO2\"\n",
    "        elif tab.name == \"1_4\":\n",
    "            gas = \"Methane CH4\"\n",
    "        elif tab.name == \"1_5\":\n",
    "            gas = \"Nitrous Oxide N2O\"\n",
    "\n",
    "        observations = period.waffle(nc_category).is_not_blank().is_not_whitespace()\n",
    "\n",
    "        dimensions = [\n",
    "            HDim(period, \"Period\", DIRECTLY, ABOVE),\n",
    "            HDim(nc_category, \"NC Category\", DIRECTLY, LEFT),\n",
    "            HDim(nc_sector, \"NC Sector\", CLOSEST, ABOVE),\n",
    "            HDim(nc_sub_sector, \"NC Sub Sector\", CLOSEST, ABOVE),\n",
    "            HDimConst(\"Gas\", gas),\n",
    "            HDimConst(\"Unit\", unit),\n",
    "        ]\n",
    "\n",
    "        tidy_sheet = ConversionSegment(tab, dimensions, observations)\n",
    "        df = tidy_sheet.topandas()\n",
    "        tidied_sheets.append(df)\n",
    "        print(tab.name)\n",
    "\n",
    "    elif tab.name == \"1_6\":\n",
    "        cell = tab.filter(\"NC Sector\")\n",
    "        period = cell.shift(RIGHT).fill(RIGHT).is_not_blank().is_not_whitespace()\n",
    "        gas = \"All\"\n",
    "        unit = \"Million of tonnes of carbon dioxide equivalent (MtCO2e)\"\n",
    "\n",
    "        stop_cell = tab.filter(\"Grand Total\")\n",
    "        nc_category = tab.filter(\"NC Category\").fill(DOWN)\n",
    "        nc_sector = nc_category.is_blank().shift(LEFT)\n",
    "\n",
    "        gas = \"Fluorinated Gases F Gases\"\n",
    "\n",
    "        observations = period.waffle(nc_category).is_not_blank().is_not_whitespace()\n",
    "\n",
    "        dimensions = [\n",
    "            HDim(period, \"Period\", DIRECTLY, ABOVE),\n",
    "            HDim(nc_category, \"NC Category\", DIRECTLY, LEFT),\n",
    "            HDim(nc_sector, \"NC Sector\", CLOSEST, ABOVE),\n",
    "            HDimConst(\"Gas\", gas),\n",
    "            HDimConst(\"Unit\", unit),\n",
    "        ]\n",
    "\n",
    "        tidy_sheet = ConversionSegment(tab, dimensions, observations)\n",
    "        df = tidy_sheet.topandas()\n",
    "        tidied_sheets.append(df)\n",
    "        print(tab.name)\n",
    "\n",
    "    if tab.name == \"3_1\":\n",
    "        cell = tab.filter(\"Geographic coverage\")\n",
    "\n",
    "        period = cell.shift(2).fill(RIGHT).is_not_whitespace()\n",
    "        gas = cell.shift(2).fill(DOWN).is_not_whitespace()\n",
    "        inclusions = cell.shift(1).fill(DOWN).is_not_whitespace()\n",
    "\n",
    "        geographic_coverage = cell.fill(DOWN).is_not_whitespace()\n",
    "\n",
    "        observations = period.waffle(gas)\n",
    "        unit = \"Million of tonnes of carbon dioxide equivalent (MtCO2e)\"\n",
    "\n",
    "        dimensions = [\n",
    "            HDim(period, \"Period\", DIRECTLY, ABOVE),\n",
    "            HDim(gas, \"Gas\", DIRECTLY, LEFT),\n",
    "            HDim(inclusions, \"Inclusions-Exclusions\", CLOSEST, ABOVE),\n",
    "            HDim(geographic_coverage, \"Geographic Coverage\", CLOSEST, ABOVE),\n",
    "            HDimConst(\"Unit\", unit),\n",
    "        ]\n",
    "        tidy_sheet = ConversionSegment(tab, dimensions, observations)\n",
    "        df = tidy_sheet.topandas()\n",
    "        tidied_sheets.append(df)\n",
    "        print(tab.name)"
   ]
  },
  {
   "cell_type": "code",
   "execution_count": 6,
   "id": "042c9e55",
   "metadata": {},
   "outputs": [],
   "source": [
    "df = pd.concat(tidied_sheets, sort=False).fillna(\"\")"
   ]
  },
  {
   "cell_type": "code",
   "execution_count": 7,
   "id": "66c6a426",
   "metadata": {},
   "outputs": [],
   "source": [
    "df.rename(\n",
    "    columns={\n",
    "        \"OBS\": \"Value\",\n",
    "        \"DATAMARKER\": \"Marker\",\n",
    "        \"Inclusions-Exclusions\": \"Breakdown\",\n",
    "    },\n",
    "    inplace=True,\n",
    ")"
   ]
  },
  {
   "cell_type": "code",
   "execution_count": 8,
   "id": "d8fb28c8",
   "metadata": {},
   "outputs": [],
   "source": [
    "df[\"Value\"] = pd.to_numeric(df[\"Value\"], errors=\"raise\", downcast=\"float\")\n",
    "df[\"Value\"] = df[\"Value\"].astype(float).round(3)\n",
    "df[\"Period\"] = df[\"Period\"].astype(float).astype(int)"
   ]
  },
  {
   "cell_type": "code",
   "execution_count": 9,
   "id": "6f3d1a43",
   "metadata": {},
   "outputs": [],
   "source": [
    "df[\"NC Sub Sector\"] = df.apply(\n",
    "    lambda x: \"All\" if x[\"NC Sub Sector\"] == x[\"NC Sector\"] else x[\"NC Sub Sector\"],\n",
    "    axis=1,\n",
    ")"
   ]
  },
  {
   "cell_type": "code",
   "execution_count": 10,
   "id": "6972e787",
   "metadata": {},
   "outputs": [],
   "source": [
    "badInheritance = [\n",
    "    \"Aviation between UK and Crown Dependencies\",\n",
    "    \"Shipping between UK and Crown Dependencies\",\n",
    "    \"Aviation between the Crown Dependencies and Overseas Territories\",\n",
    "]\n",
    "\n",
    "df[\"Breakdown\"] = df.apply(\n",
    "    lambda x: \"\" if x[\"Geographic Coverage\"] in badInheritance else x[\"Breakdown\"],\n",
    "    axis=1,\n",
    ")\n",
    "df[\"Breakdown\"] = df.apply(\n",
    "    lambda x: \"None\"\n",
    "    if \"\" in x[\"Breakdown\"] and x[\"Geographic Coverage\"] == \"United Kingdom\"\n",
    "    else x[\"Breakdown\"],\n",
    "    axis=1,\n",
    ")\n",
    "df[\"Breakdown\"] = df.apply(\n",
    "    lambda x: \"None\" if x[\"Geographic Coverage\"] in badInheritance else x[\"Breakdown\"],\n",
    "    axis=1,\n",
    ")\n",
    "\n",
    "df[\"Measure\"] = \"Gas Emissions\"\n",
    "df = df.replace(\n",
    "    {\n",
    "        \"Gas\": {\"Total\": \"All\"},\n",
    "        \"Geographic Coverage\": {\"United Kingdom only\": \"United Kingdom\"},\n",
    "    }\n",
    ")\n",
    "\n",
    "indexNames = df[df[\"Breakdown\"] == \"Net emissions/removals from LULUCF\"].index\n",
    "df.drop(indexNames, inplace=True)"
   ]
  },
  {
   "cell_type": "code",
   "execution_count": 11,
   "id": "58920309",
   "metadata": {},
   "outputs": [],
   "source": [
    "df = df.replace(\n",
    "    {\n",
    "        \"Geographic Coverage\": {\"\": \"United Kingdom\"},\n",
    "        \"NC Category\": {\"\": \"All\"},\n",
    "        \"NC Sub Sector\": {\"\": \"All\"},\n",
    "        \"NC Sector\": {\"\": \"All\"},\n",
    "        \"Breakdown\": {\"\": \"All\"},\n",
    "    }\n",
    ")"
   ]
  },
  {
   "cell_type": "code",
   "execution_count": 12,
   "id": "dd12fdc8",
   "metadata": {},
   "outputs": [],
   "source": [
    "COLUMNS_TO_NOT_PATHIFY = [\"Period\", \"Value\"]\n",
    "\n",
    "for col in df.columns.values.tolist():\n",
    "    if col in COLUMNS_TO_NOT_PATHIFY:\n",
    "        continue\n",
    "    try:\n",
    "        df[col] = df[col].apply(pathify)\n",
    "    except Exception as err:\n",
    "        raise Exception('Failed to pathify column \"{}\".'.format(col)) from err"
   ]
  },
  {
   "cell_type": "code",
   "execution_count": 13,
   "id": "ec768323",
   "metadata": {},
   "outputs": [],
   "source": [
    "df[\"NC Category\"] = df[\"NC Category\"].str.replace(\"/\", \"-\")\n",
    "df[\"Breakdown\"] = df[\"Breakdown\"].str.replace(\"/\", \"-\")\n",
    "\n",
    "df = df.replace(\n",
    "    {\n",
    "        \"Breakdown\": {\n",
    "            \"excluding-net-emissions-removals-from-land-use-land-use-change-and-forestry-lulucf\": \"excluding-net-emissions-removals-from-lulucf\"\n",
    "        }\n",
    "    }\n",
    ")"
   ]
  },
  {
   "cell_type": "code",
   "execution_count": 14,
   "id": "2db7b9b2",
   "metadata": {},
   "outputs": [],
   "source": [
    "df = df[\n",
    "    [\n",
    "        \"Period\",\n",
    "        \"Geographic Coverage\",\n",
    "        \"NC Sector\",\n",
    "        \"NC Sub Sector\",\n",
    "        \"NC Category\",\n",
    "        \"Gas\",\n",
    "        \"Breakdown\",\n",
    "        \"Value\",\n",
    "    ]\n",
    "]"
   ]
  },
  {
   "cell_type": "code",
   "execution_count": 16,
   "id": "9639f1b7",
   "metadata": {},
   "outputs": [],
   "source": [
    "df.to_csv(\"observations.csv\", index=False)\n",
    "catalog_metadata = metadata.as_csvqb_catalog_metadata()\n",
    "catalog_metadata.to_json_file(\"catalog-metadata.json\")"
   ]
  }
 ],
 "metadata": {
  "interpreter": {
   "hash": "aee8b7b246df8f9039afb4144a1f6fd8d2ca17a180786b69acc140d282b71a49"
  },
  "jupytext": {
   "cell_metadata_filter": "-all",
   "encoding": "# coding: utf-8",
   "executable": "/usr/bin/env python",
   "main_language": "python",
   "notebook_metadata_filter": "-all"
  },
  "kernelspec": {
   "display_name": "Python 3.9.1 64-bit",
   "language": "python",
   "name": "python3"
  },
  "language_info": {
   "codemirror_mode": {
    "name": "ipython",
    "version": 3
   },
   "file_extension": ".py",
   "mimetype": "text/x-python",
   "name": "python",
   "nbconvert_exporter": "python",
   "pygments_lexer": "ipython3",
   "version": "3.9.10"
  }
 },
 "nbformat": 4,
 "nbformat_minor": 5
}
